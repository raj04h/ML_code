{
  "cells": [
    {
      "cell_type": "code",
      "execution_count": 1,
      "metadata": {
        "id": "krPL49pr7Kci"
      },
      "outputs": [],
      "source": [
        "import pandas as pd\n",
        "import matplotlib.pyplot as plt\n",
        "import numpy as np\n",
        "import seaborn as sns"
      ]
    },
    {
      "cell_type": "code",
      "execution_count": 2,
      "metadata": {
        "id": "gi3YNdsY7ce0"
      },
      "outputs": [],
      "source": [
        "df=pd.read_csv(r\"D:\\Data centr\\Exel_data\\int data\\Drug_data\\indian_liver.csv\")"
      ]
    },
    {
      "cell_type": "code",
      "execution_count": 3,
      "metadata": {
        "colab": {
          "base_uri": "https://localhost:8080/",
          "height": 226
        },
        "id": "CdNb-REl8Vq6",
        "outputId": "a14d9367-75ac-498e-bf7b-c4369df0199a"
      },
      "outputs": [
        {
          "data": {
            "text/html": [
              "<div>\n",
              "<style scoped>\n",
              "    .dataframe tbody tr th:only-of-type {\n",
              "        vertical-align: middle;\n",
              "    }\n",
              "\n",
              "    .dataframe tbody tr th {\n",
              "        vertical-align: top;\n",
              "    }\n",
              "\n",
              "    .dataframe thead th {\n",
              "        text-align: right;\n",
              "    }\n",
              "</style>\n",
              "<table border=\"1\" class=\"dataframe\">\n",
              "  <thead>\n",
              "    <tr style=\"text-align: right;\">\n",
              "      <th></th>\n",
              "      <th>Age</th>\n",
              "      <th>Gender</th>\n",
              "      <th>Total Bilirubin</th>\n",
              "      <th>Direct Bilirubin</th>\n",
              "      <th>Alkphos Alkaline Phosphotase</th>\n",
              "      <th>Sgpt Alamine Aminotransferase</th>\n",
              "      <th>Sgot Aspartate Aminotransferase</th>\n",
              "      <th>Total Protiens</th>\n",
              "      <th>Albumin</th>\n",
              "      <th>A/G Ratio Albumin and Globulin Ratio</th>\n",
              "      <th>Result</th>\n",
              "    </tr>\n",
              "  </thead>\n",
              "  <tbody>\n",
              "    <tr>\n",
              "      <th>0</th>\n",
              "      <td>65</td>\n",
              "      <td>Female</td>\n",
              "      <td>0.7</td>\n",
              "      <td>0.1</td>\n",
              "      <td>187</td>\n",
              "      <td>16</td>\n",
              "      <td>18</td>\n",
              "      <td>6.8</td>\n",
              "      <td>3.3</td>\n",
              "      <td>0.90</td>\n",
              "      <td>1</td>\n",
              "    </tr>\n",
              "    <tr>\n",
              "      <th>1</th>\n",
              "      <td>62</td>\n",
              "      <td>Male</td>\n",
              "      <td>10.9</td>\n",
              "      <td>5.5</td>\n",
              "      <td>699</td>\n",
              "      <td>64</td>\n",
              "      <td>100</td>\n",
              "      <td>7.5</td>\n",
              "      <td>3.2</td>\n",
              "      <td>0.74</td>\n",
              "      <td>1</td>\n",
              "    </tr>\n",
              "    <tr>\n",
              "      <th>2</th>\n",
              "      <td>62</td>\n",
              "      <td>Male</td>\n",
              "      <td>7.3</td>\n",
              "      <td>4.1</td>\n",
              "      <td>490</td>\n",
              "      <td>60</td>\n",
              "      <td>68</td>\n",
              "      <td>7.0</td>\n",
              "      <td>3.3</td>\n",
              "      <td>0.89</td>\n",
              "      <td>1</td>\n",
              "    </tr>\n",
              "    <tr>\n",
              "      <th>3</th>\n",
              "      <td>58</td>\n",
              "      <td>Male</td>\n",
              "      <td>1.0</td>\n",
              "      <td>0.4</td>\n",
              "      <td>182</td>\n",
              "      <td>14</td>\n",
              "      <td>20</td>\n",
              "      <td>6.8</td>\n",
              "      <td>3.4</td>\n",
              "      <td>1.00</td>\n",
              "      <td>1</td>\n",
              "    </tr>\n",
              "    <tr>\n",
              "      <th>4</th>\n",
              "      <td>72</td>\n",
              "      <td>Male</td>\n",
              "      <td>3.9</td>\n",
              "      <td>2.0</td>\n",
              "      <td>195</td>\n",
              "      <td>27</td>\n",
              "      <td>59</td>\n",
              "      <td>7.3</td>\n",
              "      <td>2.4</td>\n",
              "      <td>0.40</td>\n",
              "      <td>1</td>\n",
              "    </tr>\n",
              "  </tbody>\n",
              "</table>\n",
              "</div>"
            ],
            "text/plain": [
              "   Age  Gender  Total Bilirubin  Direct Bilirubin  \\\n",
              "0   65  Female              0.7               0.1   \n",
              "1   62    Male             10.9               5.5   \n",
              "2   62    Male              7.3               4.1   \n",
              "3   58    Male              1.0               0.4   \n",
              "4   72    Male              3.9               2.0   \n",
              "\n",
              "    Alkphos Alkaline Phosphotase   Sgpt Alamine Aminotransferase  \\\n",
              "0                            187                              16   \n",
              "1                            699                              64   \n",
              "2                            490                              60   \n",
              "3                            182                              14   \n",
              "4                            195                              27   \n",
              "\n",
              "   Sgot Aspartate Aminotransferase  Total Protiens  Albumin  \\\n",
              "0                               18             6.8      3.3   \n",
              "1                              100             7.5      3.2   \n",
              "2                               68             7.0      3.3   \n",
              "3                               20             6.8      3.4   \n",
              "4                               59             7.3      2.4   \n",
              "\n",
              "   A/G Ratio Albumin and Globulin Ratio  Result  \n",
              "0                                  0.90       1  \n",
              "1                                  0.74       1  \n",
              "2                                  0.89       1  \n",
              "3                                  1.00       1  \n",
              "4                                  0.40       1  "
            ]
          },
          "execution_count": 3,
          "metadata": {},
          "output_type": "execute_result"
        }
      ],
      "source": [
        "df.head()"
      ]
    },
    {
      "cell_type": "code",
      "execution_count": 4,
      "metadata": {
        "colab": {
          "base_uri": "https://localhost:8080/",
          "height": 429
        },
        "id": "NuJqAFEl-so4",
        "outputId": "64914c6f-6391-462f-9eaa-eadf22488766"
      },
      "outputs": [
        {
          "data": {
            "text/plain": [
              "Age                                     0\n",
              "Gender                                  0\n",
              "Total Bilirubin                         0\n",
              "Direct Bilirubin                        0\n",
              " Alkphos Alkaline Phosphotase           0\n",
              " Sgpt Alamine Aminotransferase          0\n",
              "Sgot Aspartate Aminotransferase         0\n",
              "Total Protiens                          0\n",
              "Albumin                                 0\n",
              "A/G Ratio Albumin and Globulin Ratio    4\n",
              "Result                                  0\n",
              "dtype: int64"
            ]
          },
          "execution_count": 4,
          "metadata": {},
          "output_type": "execute_result"
        }
      ],
      "source": [
        "df.isnull().sum()"
      ]
    },
    {
      "cell_type": "code",
      "execution_count": 5,
      "metadata": {
        "colab": {
          "base_uri": "https://localhost:8080/"
        },
        "id": "xa5TAEHy8Zh7",
        "outputId": "3f678bbf-f2e0-40ad-fd41-4d407f5df69b"
      },
      "outputs": [
        {
          "data": {
            "text/plain": [
              "array(['Female', 'Male'], dtype=object)"
            ]
          },
          "execution_count": 5,
          "metadata": {},
          "output_type": "execute_result"
        }
      ],
      "source": [
        "df['Gender'].unique()"
      ]
    },
    {
      "cell_type": "code",
      "execution_count": 6,
      "metadata": {
        "colab": {
          "base_uri": "https://localhost:8080/",
          "height": 226
        },
        "id": "fdu8j8WH9YMF",
        "outputId": "5ddc245e-234d-4c04-a68e-9a17e6dfac12"
      },
      "outputs": [
        {
          "data": {
            "text/html": [
              "<div>\n",
              "<style scoped>\n",
              "    .dataframe tbody tr th:only-of-type {\n",
              "        vertical-align: middle;\n",
              "    }\n",
              "\n",
              "    .dataframe tbody tr th {\n",
              "        vertical-align: top;\n",
              "    }\n",
              "\n",
              "    .dataframe thead th {\n",
              "        text-align: right;\n",
              "    }\n",
              "</style>\n",
              "<table border=\"1\" class=\"dataframe\">\n",
              "  <thead>\n",
              "    <tr style=\"text-align: right;\">\n",
              "      <th></th>\n",
              "      <th>Age</th>\n",
              "      <th>Gender</th>\n",
              "      <th>Total Bilirubin</th>\n",
              "      <th>Direct Bilirubin</th>\n",
              "      <th>Alkphos Alkaline Phosphotase</th>\n",
              "      <th>Sgpt Alamine Aminotransferase</th>\n",
              "      <th>Sgot Aspartate Aminotransferase</th>\n",
              "      <th>Total Protiens</th>\n",
              "      <th>Albumin</th>\n",
              "      <th>A/G Ratio Albumin and Globulin Ratio</th>\n",
              "      <th>Result</th>\n",
              "    </tr>\n",
              "  </thead>\n",
              "  <tbody>\n",
              "    <tr>\n",
              "      <th>0</th>\n",
              "      <td>65</td>\n",
              "      <td>0</td>\n",
              "      <td>0.7</td>\n",
              "      <td>0.1</td>\n",
              "      <td>187</td>\n",
              "      <td>16</td>\n",
              "      <td>18</td>\n",
              "      <td>6.8</td>\n",
              "      <td>3.3</td>\n",
              "      <td>0.90</td>\n",
              "      <td>1</td>\n",
              "    </tr>\n",
              "    <tr>\n",
              "      <th>1</th>\n",
              "      <td>62</td>\n",
              "      <td>1</td>\n",
              "      <td>10.9</td>\n",
              "      <td>5.5</td>\n",
              "      <td>699</td>\n",
              "      <td>64</td>\n",
              "      <td>100</td>\n",
              "      <td>7.5</td>\n",
              "      <td>3.2</td>\n",
              "      <td>0.74</td>\n",
              "      <td>1</td>\n",
              "    </tr>\n",
              "    <tr>\n",
              "      <th>2</th>\n",
              "      <td>62</td>\n",
              "      <td>1</td>\n",
              "      <td>7.3</td>\n",
              "      <td>4.1</td>\n",
              "      <td>490</td>\n",
              "      <td>60</td>\n",
              "      <td>68</td>\n",
              "      <td>7.0</td>\n",
              "      <td>3.3</td>\n",
              "      <td>0.89</td>\n",
              "      <td>1</td>\n",
              "    </tr>\n",
              "    <tr>\n",
              "      <th>3</th>\n",
              "      <td>58</td>\n",
              "      <td>1</td>\n",
              "      <td>1.0</td>\n",
              "      <td>0.4</td>\n",
              "      <td>182</td>\n",
              "      <td>14</td>\n",
              "      <td>20</td>\n",
              "      <td>6.8</td>\n",
              "      <td>3.4</td>\n",
              "      <td>1.00</td>\n",
              "      <td>1</td>\n",
              "    </tr>\n",
              "    <tr>\n",
              "      <th>4</th>\n",
              "      <td>72</td>\n",
              "      <td>1</td>\n",
              "      <td>3.9</td>\n",
              "      <td>2.0</td>\n",
              "      <td>195</td>\n",
              "      <td>27</td>\n",
              "      <td>59</td>\n",
              "      <td>7.3</td>\n",
              "      <td>2.4</td>\n",
              "      <td>0.40</td>\n",
              "      <td>1</td>\n",
              "    </tr>\n",
              "  </tbody>\n",
              "</table>\n",
              "</div>"
            ],
            "text/plain": [
              "   Age  Gender  Total Bilirubin  Direct Bilirubin  \\\n",
              "0   65       0              0.7               0.1   \n",
              "1   62       1             10.9               5.5   \n",
              "2   62       1              7.3               4.1   \n",
              "3   58       1              1.0               0.4   \n",
              "4   72       1              3.9               2.0   \n",
              "\n",
              "    Alkphos Alkaline Phosphotase   Sgpt Alamine Aminotransferase  \\\n",
              "0                            187                              16   \n",
              "1                            699                              64   \n",
              "2                            490                              60   \n",
              "3                            182                              14   \n",
              "4                            195                              27   \n",
              "\n",
              "   Sgot Aspartate Aminotransferase  Total Protiens  Albumin  \\\n",
              "0                               18             6.8      3.3   \n",
              "1                              100             7.5      3.2   \n",
              "2                               68             7.0      3.3   \n",
              "3                               20             6.8      3.4   \n",
              "4                               59             7.3      2.4   \n",
              "\n",
              "   A/G Ratio Albumin and Globulin Ratio  Result  \n",
              "0                                  0.90       1  \n",
              "1                                  0.74       1  \n",
              "2                                  0.89       1  \n",
              "3                                  1.00       1  \n",
              "4                                  0.40       1  "
            ]
          },
          "execution_count": 6,
          "metadata": {},
          "output_type": "execute_result"
        }
      ],
      "source": [
        "df['Gender']=df['Gender'].map({'Male':1,'Female':0})\n",
        "df.head()"
      ]
    },
    {
      "cell_type": "code",
      "execution_count": 7,
      "metadata": {
        "colab": {
          "base_uri": "https://localhost:8080/",
          "height": 429
        },
        "id": "Drw1SUe9_oOV",
        "outputId": "363a0f33-d3b5-40f8-9a81-fb7e0ad2f181"
      },
      "outputs": [
        {
          "data": {
            "text/plain": [
              "Age                                     0\n",
              "Gender                                  0\n",
              "Total Bilirubin                         0\n",
              "Direct Bilirubin                        0\n",
              " Alkphos Alkaline Phosphotase           0\n",
              " Sgpt Alamine Aminotransferase          0\n",
              "Sgot Aspartate Aminotransferase         0\n",
              "Total Protiens                          0\n",
              "Albumin                                 0\n",
              "A/G Ratio Albumin and Globulin Ratio    0\n",
              "Result                                  0\n",
              "dtype: int64"
            ]
          },
          "execution_count": 7,
          "metadata": {},
          "output_type": "execute_result"
        }
      ],
      "source": [
        "meanvalue=df.mean()\n",
        "df.fillna(value=meanvalue, inplace=True)\n",
        "df.isnull().sum()"
      ]
    },
    {
      "cell_type": "code",
      "execution_count": 8,
      "metadata": {
        "colab": {
          "base_uri": "https://localhost:8080/",
          "height": 631
        },
        "id": "a3q1kbVr9fia",
        "outputId": "ed3bb7ae-87d6-4375-8dcd-82ecfc485ec1"
      },
      "outputs": [
        {
          "data": {
            "text/plain": [
              "<Axes: >"
            ]
          },
          "execution_count": 8,
          "metadata": {},
          "output_type": "execute_result"
        },
        {
          "data": {
            "image/png": "[encoded data removed]",
            "text/plain": [
              "<Figure size 640x480 with 2 Axes>"
            ]
          },
          "metadata": {},
          "output_type": "display_data"
        }
      ],
      "source": [
        "livercorr=df.corr()\n",
        "sns.heatmap(livercorr, annot=True, fmt=\".2f\", cmap='coolwarm',\n",
        "            square=True, linewidths=.5, cbar_kws={\"shrink\": .8})"
      ]
    },
    {
      "cell_type": "code",
      "execution_count": 9,
      "metadata": {
        "colab": {
          "base_uri": "https://localhost:8080/",
          "height": 429
        },
        "id": "Wmj49ZxMAtfd",
        "outputId": "062e3964-ee77-4f31-9ce8-2f340943627c"
      },
      "outputs": [
        {
          "data": {
            "text/plain": [
              "Result                                  1.000000\n",
              "A/G Ratio Albumin and Globulin Ratio    0.162319\n",
              "Albumin                                 0.161388\n",
              "Total Protiens                          0.035008\n",
              "Gender                                 -0.082416\n",
              "Age                                    -0.137351\n",
              "Sgot Aspartate Aminotransferase        -0.151934\n",
              " Sgpt Alamine Aminotransferase         -0.163416\n",
              " Alkphos Alkaline Phosphotase          -0.184866\n",
              "Total Bilirubin                        -0.220208\n",
              "Direct Bilirubin                       -0.246046\n",
              "Name: Result, dtype: float64"
            ]
          },
          "execution_count": 9,
          "metadata": {},
          "output_type": "execute_result"
        }
      ],
      "source": [
        "datasetcorr=livercorr['Result']\n",
        "datasetcorr.sort_values(ascending=False)"
      ]
    },
    {
      "cell_type": "code",
      "execution_count": 10,
      "metadata": {
        "colab": {
          "base_uri": "https://localhost:8080/",
          "height": 206
        },
        "id": "8OaYEGfXBQeg",
        "outputId": "64a190f3-06e7-4b0b-a876-7bd0c72d780e"
      },
      "outputs": [
        {
          "data": {
            "text/html": [
              "<div>\n",
              "<style scoped>\n",
              "    .dataframe tbody tr th:only-of-type {\n",
              "        vertical-align: middle;\n",
              "    }\n",
              "\n",
              "    .dataframe tbody tr th {\n",
              "        vertical-align: top;\n",
              "    }\n",
              "\n",
              "    .dataframe thead th {\n",
              "        text-align: right;\n",
              "    }\n",
              "</style>\n",
              "<table border=\"1\" class=\"dataframe\">\n",
              "  <thead>\n",
              "    <tr style=\"text-align: right;\">\n",
              "      <th></th>\n",
              "      <th>Age</th>\n",
              "      <th>Gender</th>\n",
              "      <th>Total Bilirubin</th>\n",
              "      <th>Alkphos Alkaline Phosphotase</th>\n",
              "      <th>Sgot Aspartate Aminotransferase</th>\n",
              "      <th>Total Protiens</th>\n",
              "      <th>Albumin</th>\n",
              "      <th>A/G Ratio Albumin and Globulin Ratio</th>\n",
              "      <th>Result</th>\n",
              "    </tr>\n",
              "  </thead>\n",
              "  <tbody>\n",
              "    <tr>\n",
              "      <th>0</th>\n",
              "      <td>65</td>\n",
              "      <td>0</td>\n",
              "      <td>0.7</td>\n",
              "      <td>187</td>\n",
              "      <td>18</td>\n",
              "      <td>6.8</td>\n",
              "      <td>3.3</td>\n",
              "      <td>0.90</td>\n",
              "      <td>1</td>\n",
              "    </tr>\n",
              "    <tr>\n",
              "      <th>1</th>\n",
              "      <td>62</td>\n",
              "      <td>1</td>\n",
              "      <td>10.9</td>\n",
              "      <td>699</td>\n",
              "      <td>100</td>\n",
              "      <td>7.5</td>\n",
              "      <td>3.2</td>\n",
              "      <td>0.74</td>\n",
              "      <td>1</td>\n",
              "    </tr>\n",
              "    <tr>\n",
              "      <th>2</th>\n",
              "      <td>62</td>\n",
              "      <td>1</td>\n",
              "      <td>7.3</td>\n",
              "      <td>490</td>\n",
              "      <td>68</td>\n",
              "      <td>7.0</td>\n",
              "      <td>3.3</td>\n",
              "      <td>0.89</td>\n",
              "      <td>1</td>\n",
              "    </tr>\n",
              "    <tr>\n",
              "      <th>3</th>\n",
              "      <td>58</td>\n",
              "      <td>1</td>\n",
              "      <td>1.0</td>\n",
              "      <td>182</td>\n",
              "      <td>20</td>\n",
              "      <td>6.8</td>\n",
              "      <td>3.4</td>\n",
              "      <td>1.00</td>\n",
              "      <td>1</td>\n",
              "    </tr>\n",
              "    <tr>\n",
              "      <th>4</th>\n",
              "      <td>72</td>\n",
              "      <td>1</td>\n",
              "      <td>3.9</td>\n",
              "      <td>195</td>\n",
              "      <td>59</td>\n",
              "      <td>7.3</td>\n",
              "      <td>2.4</td>\n",
              "      <td>0.40</td>\n",
              "      <td>1</td>\n",
              "    </tr>\n",
              "  </tbody>\n",
              "</table>\n",
              "</div>"
            ],
            "text/plain": [
              "   Age  Gender  Total Bilirubin   Alkphos Alkaline Phosphotase  \\\n",
              "0   65       0              0.7                            187   \n",
              "1   62       1             10.9                            699   \n",
              "2   62       1              7.3                            490   \n",
              "3   58       1              1.0                            182   \n",
              "4   72       1              3.9                            195   \n",
              "\n",
              "   Sgot Aspartate Aminotransferase  Total Protiens  Albumin  \\\n",
              "0                               18             6.8      3.3   \n",
              "1                              100             7.5      3.2   \n",
              "2                               68             7.0      3.3   \n",
              "3                               20             6.8      3.4   \n",
              "4                               59             7.3      2.4   \n",
              "\n",
              "   A/G Ratio Albumin and Globulin Ratio  Result  \n",
              "0                                  0.90       1  \n",
              "1                                  0.74       1  \n",
              "2                                  0.89       1  \n",
              "3                                  1.00       1  \n",
              "4                                  0.40       1  "
            ]
          },
          "execution_count": 10,
          "metadata": {},
          "output_type": "execute_result"
        }
      ],
      "source": [
        "df=df.drop(['Direct Bilirubin',' Sgpt Alamine Aminotransferase'],axis=1)\n",
        "df.head()"
      ]
    },
    {
      "cell_type": "code",
      "execution_count": 11,
      "metadata": {
        "colab": {
          "base_uri": "https://localhost:8080/",
          "height": 466
        },
        "id": "gODmveItB6zt",
        "outputId": "67ea55ee-54d8-4caa-be8f-c7677d84d2fc"
      },
      "outputs": [
        {
          "name": "stdout",
          "output_type": "stream",
          "text": [
            "0=Female, 1=Male\n"
          ]
        },
        {
          "data": {
            "image/png": "[encoded data removed]",
            "text/plain": [
              "<Figure size 640x480 with 1 Axes>"
            ]
          },
          "metadata": {},
          "output_type": "display_data"
        }
      ],
      "source": [
        "sns.countplot(x='Gender', data=df)\n",
        "print(\"0=Female, 1=Male\")\n",
        "#dataset is male dominated"
      ]
    },
    {
      "cell_type": "code",
      "execution_count": 12,
      "metadata": {
        "colab": {
          "base_uri": "https://localhost:8080/",
          "height": 466
        },
        "id": "-lhMMzjYE3ij",
        "outputId": "ee71f344-6a94-4826-ac55-0e65a0a21c55"
      },
      "outputs": [
        {
          "data": {
            "text/plain": [
              "<Axes: xlabel='Gender', ylabel='count'>"
            ]
          },
          "execution_count": 12,
          "metadata": {},
          "output_type": "execute_result"
        },
        {
          "data": {
            "image/png": "[encoded data removed]",
            "text/plain": [
              "<Figure size 640x480 with 1 Axes>"
            ]
          },
          "metadata": {},
          "output_type": "display_data"
        }
      ],
      "source": [
        "sns.countplot(x='Gender', hue='Result', data=df)"
      ]
    },
    {
      "cell_type": "code",
      "execution_count": 13,
      "metadata": {
        "colab": {
          "base_uri": "https://localhost:8080/",
          "height": 429
        },
        "id": "hCo6m9YsFHoS",
        "outputId": "0d21d776-d363-48c3-b270-4d384e12e6a5"
      },
      "outputs": [
        {
          "data": {
            "text/plain": [
              "Age                                     1.000000\n",
              " Alkphos Alkaline Phosphotase           0.080425\n",
              "Gender                                  0.056560\n",
              "Total Bilirubin                         0.011763\n",
              "Direct Bilirubin                        0.007529\n",
              "Sgot Aspartate Aminotransferase        -0.019910\n",
              " Sgpt Alamine Aminotransferase         -0.086883\n",
              "Result                                 -0.137351\n",
              "Total Protiens                         -0.187461\n",
              "A/G Ratio Albumin and Globulin Ratio   -0.216089\n",
              "Albumin                                -0.265924\n",
              "Name: Age, dtype: float64"
            ]
          },
          "execution_count": 13,
          "metadata": {},
          "output_type": "execute_result"
        }
      ],
      "source": [
        "agecorr=livercorr['Age']\n",
        "agecorr.sort_values(ascending=False)\n",
        "#age is not correlated with liver dieases no we can factor that out"
      ]
    },
    {
      "cell_type": "code",
      "execution_count": 14,
      "metadata": {
        "colab": {
          "base_uri": "https://localhost:8080/",
          "height": 206
        },
        "id": "0Hq2gpf0FgO6",
        "outputId": "d8994666-1565-4458-8b12-d821aeed82bf"
      },
      "outputs": [
        {
          "data": {
            "text/html": [
              "<div>\n",
              "<style scoped>\n",
              "    .dataframe tbody tr th:only-of-type {\n",
              "        vertical-align: middle;\n",
              "    }\n",
              "\n",
              "    .dataframe tbody tr th {\n",
              "        vertical-align: top;\n",
              "    }\n",
              "\n",
              "    .dataframe thead th {\n",
              "        text-align: right;\n",
              "    }\n",
              "</style>\n",
              "<table border=\"1\" class=\"dataframe\">\n",
              "  <thead>\n",
              "    <tr style=\"text-align: right;\">\n",
              "      <th></th>\n",
              "      <th>Gender</th>\n",
              "      <th>Total Bilirubin</th>\n",
              "      <th>Alkphos Alkaline Phosphotase</th>\n",
              "      <th>Sgot Aspartate Aminotransferase</th>\n",
              "      <th>Total Protiens</th>\n",
              "      <th>Albumin</th>\n",
              "      <th>A/G Ratio Albumin and Globulin Ratio</th>\n",
              "      <th>Result</th>\n",
              "    </tr>\n",
              "  </thead>\n",
              "  <tbody>\n",
              "    <tr>\n",
              "      <th>0</th>\n",
              "      <td>0</td>\n",
              "      <td>0.7</td>\n",
              "      <td>187</td>\n",
              "      <td>18</td>\n",
              "      <td>6.8</td>\n",
              "      <td>3.3</td>\n",
              "      <td>0.90</td>\n",
              "      <td>1</td>\n",
              "    </tr>\n",
              "    <tr>\n",
              "      <th>1</th>\n",
              "      <td>1</td>\n",
              "      <td>10.9</td>\n",
              "      <td>699</td>\n",
              "      <td>100</td>\n",
              "      <td>7.5</td>\n",
              "      <td>3.2</td>\n",
              "      <td>0.74</td>\n",
              "      <td>1</td>\n",
              "    </tr>\n",
              "    <tr>\n",
              "      <th>2</th>\n",
              "      <td>1</td>\n",
              "      <td>7.3</td>\n",
              "      <td>490</td>\n",
              "      <td>68</td>\n",
              "      <td>7.0</td>\n",
              "      <td>3.3</td>\n",
              "      <td>0.89</td>\n",
              "      <td>1</td>\n",
              "    </tr>\n",
              "    <tr>\n",
              "      <th>3</th>\n",
              "      <td>1</td>\n",
              "      <td>1.0</td>\n",
              "      <td>182</td>\n",
              "      <td>20</td>\n",
              "      <td>6.8</td>\n",
              "      <td>3.4</td>\n",
              "      <td>1.00</td>\n",
              "      <td>1</td>\n",
              "    </tr>\n",
              "    <tr>\n",
              "      <th>4</th>\n",
              "      <td>1</td>\n",
              "      <td>3.9</td>\n",
              "      <td>195</td>\n",
              "      <td>59</td>\n",
              "      <td>7.3</td>\n",
              "      <td>2.4</td>\n",
              "      <td>0.40</td>\n",
              "      <td>1</td>\n",
              "    </tr>\n",
              "  </tbody>\n",
              "</table>\n",
              "</div>"
            ],
            "text/plain": [
              "   Gender  Total Bilirubin   Alkphos Alkaline Phosphotase  \\\n",
              "0       0              0.7                            187   \n",
              "1       1             10.9                            699   \n",
              "2       1              7.3                            490   \n",
              "3       1              1.0                            182   \n",
              "4       1              3.9                            195   \n",
              "\n",
              "   Sgot Aspartate Aminotransferase  Total Protiens  Albumin  \\\n",
              "0                               18             6.8      3.3   \n",
              "1                              100             7.5      3.2   \n",
              "2                               68             7.0      3.3   \n",
              "3                               20             6.8      3.4   \n",
              "4                               59             7.3      2.4   \n",
              "\n",
              "   A/G Ratio Albumin and Globulin Ratio  Result  \n",
              "0                                  0.90       1  \n",
              "1                                  0.74       1  \n",
              "2                                  0.89       1  \n",
              "3                                  1.00       1  \n",
              "4                                  0.40       1  "
            ]
          },
          "execution_count": 14,
          "metadata": {},
          "output_type": "execute_result"
        }
      ],
      "source": [
        "df=df.drop('Age',axis=1)\n",
        "df.head()"
      ]
    },
    {
      "cell_type": "code",
      "execution_count": 15,
      "metadata": {
        "colab": {
          "base_uri": "https://localhost:8080/",
          "height": 206
        },
        "id": "WkuYuseSFnOZ",
        "outputId": "1cd04b54-a789-42bf-b671-750cc4f3111a"
      },
      "outputs": [
        {
          "data": {
            "text/html": [
              "<div>\n",
              "<style scoped>\n",
              "    .dataframe tbody tr th:only-of-type {\n",
              "        vertical-align: middle;\n",
              "    }\n",
              "\n",
              "    .dataframe tbody tr th {\n",
              "        vertical-align: top;\n",
              "    }\n",
              "\n",
              "    .dataframe thead th {\n",
              "        text-align: right;\n",
              "    }\n",
              "</style>\n",
              "<table border=\"1\" class=\"dataframe\">\n",
              "  <thead>\n",
              "    <tr style=\"text-align: right;\">\n",
              "      <th></th>\n",
              "      <th>Total Bilirubin</th>\n",
              "      <th>Alkphos Alkaline Phosphotase</th>\n",
              "      <th>Sgot Aspartate Aminotransferase</th>\n",
              "      <th>Total Protiens</th>\n",
              "      <th>Albumin</th>\n",
              "      <th>A/G Ratio Albumin and Globulin Ratio</th>\n",
              "      <th>Result</th>\n",
              "    </tr>\n",
              "  </thead>\n",
              "  <tbody>\n",
              "    <tr>\n",
              "      <th>0</th>\n",
              "      <td>0.7</td>\n",
              "      <td>187</td>\n",
              "      <td>18</td>\n",
              "      <td>6.8</td>\n",
              "      <td>3.3</td>\n",
              "      <td>0.90</td>\n",
              "      <td>1</td>\n",
              "    </tr>\n",
              "    <tr>\n",
              "      <th>1</th>\n",
              "      <td>10.9</td>\n",
              "      <td>699</td>\n",
              "      <td>100</td>\n",
              "      <td>7.5</td>\n",
              "      <td>3.2</td>\n",
              "      <td>0.74</td>\n",
              "      <td>1</td>\n",
              "    </tr>\n",
              "    <tr>\n",
              "      <th>2</th>\n",
              "      <td>7.3</td>\n",
              "      <td>490</td>\n",
              "      <td>68</td>\n",
              "      <td>7.0</td>\n",
              "      <td>3.3</td>\n",
              "      <td>0.89</td>\n",
              "      <td>1</td>\n",
              "    </tr>\n",
              "    <tr>\n",
              "      <th>3</th>\n",
              "      <td>1.0</td>\n",
              "      <td>182</td>\n",
              "      <td>20</td>\n",
              "      <td>6.8</td>\n",
              "      <td>3.4</td>\n",
              "      <td>1.00</td>\n",
              "      <td>1</td>\n",
              "    </tr>\n",
              "    <tr>\n",
              "      <th>4</th>\n",
              "      <td>3.9</td>\n",
              "      <td>195</td>\n",
              "      <td>59</td>\n",
              "      <td>7.3</td>\n",
              "      <td>2.4</td>\n",
              "      <td>0.40</td>\n",
              "      <td>1</td>\n",
              "    </tr>\n",
              "  </tbody>\n",
              "</table>\n",
              "</div>"
            ],
            "text/plain": [
              "   Total Bilirubin   Alkphos Alkaline Phosphotase  \\\n",
              "0              0.7                            187   \n",
              "1             10.9                            699   \n",
              "2              7.3                            490   \n",
              "3              1.0                            182   \n",
              "4              3.9                            195   \n",
              "\n",
              "   Sgot Aspartate Aminotransferase  Total Protiens  Albumin  \\\n",
              "0                               18             6.8      3.3   \n",
              "1                              100             7.5      3.2   \n",
              "2                               68             7.0      3.3   \n",
              "3                               20             6.8      3.4   \n",
              "4                               59             7.3      2.4   \n",
              "\n",
              "   A/G Ratio Albumin and Globulin Ratio  Result  \n",
              "0                                  0.90       1  \n",
              "1                                  0.74       1  \n",
              "2                                  0.89       1  \n",
              "3                                  1.00       1  \n",
              "4                                  0.40       1  "
            ]
          },
          "execution_count": 15,
          "metadata": {},
          "output_type": "execute_result"
        }
      ],
      "source": [
        "df=df.drop('Gender',axis=1)\n",
        "df.head()\n",
        "#gender also not correlated"
      ]
    },
    {
      "cell_type": "code",
      "execution_count": 16,
      "metadata": {
        "cellView": "form",
        "colab": {
          "base_uri": "https://localhost:8080/",
          "height": 452
        },
        "id": "lsyrERdeGBBx",
        "outputId": "5e626bd4-b338-4b11-885b-211babd4fe62"
      },
      "outputs": [
        {
          "data": {
            "image/png": "[encoded data removed]",
            "text/plain": [
              "<Figure size 640x480 with 1 Axes>"
            ]
          },
          "metadata": {},
          "output_type": "display_data"
        }
      ],
      "source": [
        "# @title Total_Bilirubin\n",
        "\n",
        "from matplotlib import pyplot as plt\n",
        "df['Total Bilirubin'].plot(kind='hist', bins=20, title='Total_Bilirubin')\n",
        "plt.gca().spines[['top', 'right',]].set_visible(False)"
      ]
    },
    {
      "cell_type": "code",
      "execution_count": 17,
      "metadata": {
        "colab": {
          "base_uri": "https://localhost:8080/"
        },
        "id": "wqaIgx2oF3jy",
        "outputId": "d98dca71-9175-4f62-fa19-b280080657bd"
      },
      "outputs": [
        {
          "name": "stdout",
          "output_type": "stream",
          "text": [
            "              precision    recall  f1-score   support\n",
            "\n",
            "           1       0.75      0.90      0.82        87\n",
            "           2       0.31      0.13      0.19        30\n",
            "\n",
            "    accuracy                           0.70       117\n",
            "   macro avg       0.53      0.51      0.50       117\n",
            "weighted avg       0.64      0.70      0.66       117\n",
            "\n"
          ]
        },
        {
          "name": "stderr",
          "output_type": "stream",
          "text": [
            "c:\\Users\\himan\\AppData\\Local\\Programs\\Python\\Python312\\Lib\\site-packages\\sklearn\\linear_model\\_logistic.py:465: ConvergenceWarning: lbfgs failed to converge (status=1):\n",
            "STOP: TOTAL NO. of ITERATIONS REACHED LIMIT.\n",
            "\n",
            "Increase the number of iterations (max_iter) or scale the data as shown in:\n",
            "    https://scikit-learn.org/stable/modules/preprocessing.html\n",
            "Please also refer to the documentation for alternative solver options:\n",
            "    https://scikit-learn.org/stable/modules/linear_model.html#logistic-regression\n",
            "  n_iter_i = _check_optimize_result(\n"
          ]
        }
      ],
      "source": [
        "from sklearn.model_selection import train_test_split\n",
        "from sklearn.linear_model import LogisticRegression\n",
        "from sklearn.metrics import accuracy_score, f1_score, recall_score, precision_score, classification_report\n",
        "x=df.drop(columns='Result')\n",
        "y=df['Result']\n",
        "xtrain, xtest, ytrain, ytest = train_test_split(x, y, test_size=0.2, random_state=42)\n",
        "model = LogisticRegression()\n",
        "model.fit(xtrain, ytrain)\n",
        "ypred = model.predict(xtest)\n",
        "print(classification_report(ytest, ypred))"
      ]
    },
    {
      "cell_type": "code",
      "execution_count": 18,
      "metadata": {},
      "outputs": [
        {
          "name": "stdout",
          "output_type": "stream",
          "text": [
            "Result\n",
            "1    416\n",
            "2    167\n",
            "Name: count, dtype: int64\n"
          ]
        }
      ],
      "source": [
        "print(df['Result'].value_counts())\n"
      ]
    },
    {
      "cell_type": "code",
      "execution_count": 19,
      "metadata": {},
      "outputs": [],
      "source": [
        "from sklearn.utils import resample"
      ]
    },
    {
      "cell_type": "code",
      "execution_count": 20,
      "metadata": {
        "colab": {
          "base_uri": "https://localhost:8080/"
        },
        "id": "0bGutW-hNOlI",
        "outputId": "cedee19c-94c8-4bf4-c36e-9df7bdf5a288"
      },
      "outputs": [
        {
          "name": "stdout",
          "output_type": "stream",
          "text": [
            "Value counts of 'Result' column:\n",
            "Result\n",
            "1    416\n",
            "2    167\n",
            "Name: count, dtype: int64\n",
            "Minority size: (0, 7)\n",
            "Majority size: (416, 7)\n",
            "No minority class found!\n"
          ]
        }
      ],
      "source": [
        "# Check the distribution of the 'Result' column\n",
        "print(\"Value counts of 'Result' column:\")\n",
        "print(df['Result'].value_counts())\n",
        "\n",
        "# Ensure minority and majority are correctly assigned\n",
        "minority = df[df['Result'] == 0]\n",
        "majority = df[df['Result'] == 1]\n",
        "\n",
        "# Check sizes of minority and majority classes\n",
        "print('Minority size:', minority.shape)\n",
        "print('Majority size:', majority.shape)\n",
        "\n",
        "# If the majority class is empty, you need to correct the dataset\n",
        "if majority.shape[0] == 0:\n",
        "    print(\"No majority class found!\")\n",
        "elif minority.shape[0] == 0:\n",
        "    print(\"No minority class found!\")\n",
        "else:\n",
        "    # Perform resampling only if both classes are non-empty\n",
        "    minority_upsample = resample(minority, replace=True, n_samples=majority.shape[0])\n",
        "    print('Minority upsampled size:', minority_upsample.shape)\n",
        "    upsampled = pd.concat([majority, minority_upsample])\n",
        "    print(\"Upsampled Dataset size:\", upsampled.shape)\n"
      ]
    },
    {
      "cell_type": "code",
      "execution_count": 21,
      "metadata": {},
      "outputs": [
        {
          "name": "stdout",
          "output_type": "stream",
          "text": [
            "Model feature names: ['Total Bilirubin' ' Alkphos Alkaline Phosphotase'\n",
            " 'Sgot Aspartate Aminotransferase' 'Total Protiens' 'Albumin'\n",
            " 'A/G Ratio Albumin and Globulin Ratio']\n"
          ]
        }
      ],
      "source": [
        "print(\"Model feature names:\", model.feature_names_in_)"
      ]
    },
    {
      "cell_type": "code",
      "execution_count": 22,
      "metadata": {},
      "outputs": [],
      "source": [
        "def predict_liver_disease(input_data):\n",
        "    input_df = pd.DataFrame([input_data])  # Convert input to DataFrame\n",
        "    prediction = model.predict(input_df)  # Use the model for prediction\n",
        "    return \"Disease\" if prediction[0] == 1 else \"No Disease\"\n"
      ]
    },
    {
      "cell_type": "code",
      "execution_count": 23,
      "metadata": {
        "colab": {
          "base_uri": "https://localhost:8080/"
        },
        "id": "e7hzznj_PPO3",
        "outputId": "0c1175ca-cd27-4ac1-df09-11fb45125db3"
      },
      "outputs": [
        {
          "name": "stdout",
          "output_type": "stream",
          "text": [
            "Prediction: Disease\n"
          ]
        }
      ],
      "source": [
        "# Corrected input values with exact feature names\n",
        "input_values = {\n",
        "    'Total Bilirubin': 0.7,\n",
        "    ' Alkphos Alkaline Phosphotase': 187,  # Added leading space\n",
        "    'Sgot Aspartate Aminotransferase': 18,\n",
        "    'Total Protiens': 6.8,\n",
        "    'Albumin': 3.3,\n",
        "    'A/G Ratio Albumin and Globulin Ratio': 0.90\n",
        "}\n",
        "\n",
        "# Call the prediction function\n",
        "prediction_result = predict_liver_disease(input_values)\n",
        "print(f\"Prediction: {prediction_result}\")\n"
      ]
    }
  ],
  "metadata": {
    "colab": {
      "provenance": []
    },
    "kernelspec": {
      "display_name": "Python 3",
      "name": "python3"
    },
    "language_info": {
      "codemirror_mode": {
        "name": "ipython",
        "version": 3
      },
      "file_extension": ".py",
      "mimetype": "text/x-python",
      "name": "python",
      "nbconvert_exporter": "python",
      "pygments_lexer": "ipython3",
      "version": "3.12.7"
    }
  },
  "nbformat": 4,
  "nbformat_minor": 0
}
