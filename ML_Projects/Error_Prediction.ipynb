{
 "cells": [
  {
   "cell_type": "markdown",
   "id": "ab197aeb",
   "metadata": {},
   "source": [
    "# UAV Damage Prediction"
   ]
  },
  {
   "cell_type": "markdown",
   "id": "d291351c",
   "metadata": {},
   "source": [
    "Here we use Live dataset saved on Firebase"
   ]
  },
  {
   "cell_type": "code",
   "execution_count": 24,
   "id": "0f924786",
   "metadata": {},
   "outputs": [],
   "source": [
    "import requests\n",
    "import pandas as pd"
   ]
  },
  {
   "cell_type": "code",
   "execution_count": 25,
   "id": "a9ff182d",
   "metadata": {},
   "outputs": [],
   "source": [
    "firebase_url = \"https://dr-uav-default-rtdb.europe-west1.firebasedatabase.app/.json\""
   ]
  },
  {
   "cell_type": "code",
   "execution_count": 26,
   "id": "821d38b5",
   "metadata": {},
   "outputs": [],
   "source": [
    "response = requests.get(firebase_url)\n",
    "data = response.json()"
   ]
  },
  {
   "cell_type": "code",
   "execution_count": 27,
   "id": "30ef11a4",
   "metadata": {},
   "outputs": [
    {
     "name": "stdout",
     "output_type": "stream",
     "text": [
      "{'Error Found': {'-OJUlDmlFCbyfN4e84f9': {'timestamp': 1739994754225, 'type': 'QR', 'value': 'softwere ERROR '}, '-OJUlGLPmf_TtbP1Tx6d': {'timestamp': 1739994764755, 'type': 'damage', 'value': 'softwere ERROR '}, '-OJUlQzzPKf-rtc1neo3': {'timestamp': 1739994808376, 'type': 'damage', 'value': 'Scratches'}, '-OJUlXEYlHzrABbkya0S': {'timestamp': 1739994833948, 'type': 'damage', 'value': 'Pitted'}, '-OJUm48b_ZE-tHn9f8eM': {'timestamp': 1739994976925, 'type': 'damage', 'value': 'Pitted'}, '-OJUmHdijnxD0R4SPk5g': {'timestamp': 1739995032174, 'type': 'damage', 'value': 'Inclusion'}, '-OJUuGuW3zkb2plg3FmZ': {'timestamp': 1739997126305, 'type': 'damage', 'value': 'Scratches'}, '-OJUuI6iq-WejhR0EUST': {'timestamp': 1739997131298, 'type': 'damage', 'value': 'Scratches'}, '-OJUuOpTftpaY7x4lKmP': {'timestamp': 1739997158803, 'type': 'damage', 'value': 'Pitted'}, '-OJUuRmESI2aLDPKCYO-': {'timestamp': 1739997170884, 'type': 'damage', 'value': 'Pitted'}, '-OJUuTY1YALo_gAnuXIT': {'timestamp': 1739997178103, 'type': 'damage', 'value': 'Pitted'}, '-OJUu_-OTsxbSqu0-eEN': {'timestamp': 1739997204558, 'type': 'damage', 'value': 'Pitted'}, '-OJWt5TcZycDR7-Cyiz_': {'timestamp': 1740030371752, 'type': 'damage', 'value': 'Pitted'}, '-OJWt8CvYTIg2NIN06jM': {'timestamp': 1740030383016, 'type': 'damage', 'value': 'Pitted'}, '-OJWu64qtl0gRNFkWLi_': {'timestamp': 1740030637133, 'type': 'QR', 'value': 'https://github.com/raj04h'}, '-OJWu6ivpt6k03f9WvLU': {'timestamp': 1740030639762, 'type': 'damage', 'value': 'https://github.com/raj04h'}, '-OJWuK49zGGGjYYiIuz_': {'timestamp': 1740030693706, 'type': 'damage', 'value': 'Pitted'}, '-OJXLBr4iIwCLJpCWSw7': {'timestamp': 1740038000069, 'type': 'damage', 'value': 'Scratches'}, '-OJXLIaffPdrK-Wmma67': {'timestamp': 1740038027988, 'type': 'damage', 'value': 'Pitted'}, '-OJXMqCUf-38xHtdZRb3': {'timestamp': 1740038431583, 'type': 'QR', 'value': 'futjk\\n'}, '-OJXMrPgMZMOe0YZsXUY': {'timestamp': 1740038436524, 'type': 'damage', 'value': 'futjk\\n'}, '-OJXMtcNLtufHKK8v9wx': {'timestamp': 1740038445627, 'type': 'damage', 'value': 'Pitted'}, '-OJY94O4kYSuBYpXaD5s': {'timestamp': 1740051600965, 'type': 'QR', 'value': 'https://github.com/raj04h'}, '-OJY9GrDy0r8igBj182O': {'timestamp': 1740051652057, 'type': 'damage', 'value': 'Inclusion'}, '-OJY9GwAJl8UT7CJBOSL': {'timestamp': 1740051652375, 'type': 'damage', 'value': 'Inclusion'}, '-OJY9MM2TwUZHMbo87x5': {'timestamp': 1740051674563, 'type': 'QR', 'value': 'https://github.com/raj04h'}, '-OJY9N5BtyTidiVb_6lP': {'timestamp': 1740051677581, 'type': 'damage', 'value': 'https://github.com/raj04h'}, '-OJY9Z1ctZuJedJIN89t': {'timestamp': 1740051726505, 'type': 'damage', 'value': 'Scratches'}, '-OJYAFoslfETdo1SQiba': {'timestamp': 1740051909944, 'type': 'damage', 'value': 'Pitted'}, '-OJYALZUwQ6XFG3a_nv3': {'timestamp': 1740051933382, 'type': 'damage', 'value': 'Pitted'}, '-OJYAbYpHtJSg-AorkZ9': {'timestamp': 1740052003061, 'type': 'damage', 'value': 'Pitted'}, '-OJYAl59AkoUgRe5ADwj': {'timestamp': 1740052042069, 'type': 'damage', 'value': 'Pitted'}, '-OJZtmkTg3K88NdOLB3-': {'timestamp': 1740080884766, 'type': 'damage', 'value': 'Scratches'}}, 'errors': {'-OJUpgWQgOIwYv550ea8': {'errors': ['GPS signal lost', 'Power surge error', 'Firmware update failed'], 'timestamp': 1739995924571}, '-OJUph6uQ0JXbg5CD-6H': {'errors': ['GPS signal lost', 'Power surge error', 'Firmware update failed'], 'timestamp': 1739995927105}, '-OJUpkI-RXnLfUXLAN0U': {'errors': ['GPS signal lost', 'Power surge error', 'Firmware update failed'], 'timestamp': 1739995940104}, '-OJUplG7p45Fcu8vdCpE': {'timestamp': 1739995944080}, '-OJUpovGJXixLpp_wI_e': {'timestamp': 1739995959064}, '-OJUprXC1RuJTA2IOtCI': {'errors': ['Power module malfunction'], 'timestamp': 1739995969748}, '-OJUpwdUk121iyVUXtCM': {'errors': ['Power module malfunction', 'Power supply failure', 'Configuration error', 'GPS module failure'], 'timestamp': 1739995990695}, '-OJUu5oEnO_lv0A6r4Ap': {'errors': ['GPS hardware malfunction', 'Battery low', 'Firmware update failed'], 'timestamp': 1739997080845}, '-OJV4YSwrm0S9EmQb--l': {'timestamp': 1740000081788}, '-OJWtrjcH-O__R98Cp9l': {'errors': ['GPS module failure'], 'timestamp': 1740030573589}, '-OJX8TtkDq65lVRIFf4z': {'timestamp': 1740034666096}, '-OJX8WWlIp-ilf7BPZe0': {'timestamp': 1740034676876}, '-OJX8_Ep8cdKr3dLPGCW': {'errors': ['GPS data error'], 'timestamp': 1740034692112}, '-OJXKzqAzf2LDDS_zIfb': {'errors': ['Connections Successful', 'Fully Charged', 'Tested OK', 'Power surge error', 'App not responding', 'Software crash', 'Power module malfunction'], 'timestamp': 1740037946763}, '-OJYPOveLKhXbnsoYccF': {'errors': ['GPS module failure'], 'timestamp': 1740055879404}, '-OJYPeSBBe-74-578LCe': {'errors': ['Firmware update failed'], 'timestamp': 1740055947090}, '-OJYQ_1rX877sAZGoFZ5': {'errors': ['Connections Successful'], 'timestamp': 1740056187001}, '-OJYQaQOxjdgUrbSmsSN': {'errors': ['Connections Successful'], 'timestamp': 1740056192667}, '-OJYR32cawFipVUdTI8x': {'errors': ['Connections Successful'], 'timestamp': 1740056314025}}, 'maintenance_schedule': {'next_maintenance_date': '2025-02-24 00:00:00'}}\n"
     ]
    }
   ],
   "source": [
    "print(data)"
   ]
  },
  {
   "cell_type": "markdown",
   "id": "5a9f9196",
   "metadata": {},
   "source": [
    "# Data Cleaning"
   ]
  },
  {
   "cell_type": "code",
   "execution_count": 28,
   "id": "c2dd3e18",
   "metadata": {},
   "outputs": [
    {
     "name": "stdout",
     "output_type": "stream",
     "text": [
      "Extracted failure records:\n",
      "[{'timestamp': 1739994754225, 'type': 'QR', 'value': 'softwere ERROR '}, {'timestamp': 1739994764755, 'type': 'damage', 'value': 'softwere ERROR '}, {'timestamp': 1739994808376, 'type': 'damage', 'value': 'Scratches'}]\n"
     ]
    }
   ],
   "source": [
    "failure_data = data.get(\"Error Found\", {})\n",
    "records = []\n",
    "for key, record in failure_data.items():\n",
    "    if isinstance(record, dict) and all(k in record for k in ['timestamp', 'type', 'value']):\n",
    "        records.append(record)\n",
    "\n",
    "print(\"Extracted failure records:\")\n",
    "print(records[:3])"
   ]
  },
  {
   "cell_type": "markdown",
   "id": "74f4c0f1",
   "metadata": {},
   "source": [
    "* Data Structure"
   ]
  },
  {
   "cell_type": "code",
   "execution_count": 29,
   "id": "c8e64f7e",
   "metadata": {},
   "outputs": [
    {
     "name": "stdout",
     "output_type": "stream",
     "text": [
      "DataFrame columns: Index(['timestamp', 'type', 'value'], dtype='object')\n"
     ]
    }
   ],
   "source": [
    "df = pd.DataFrame(records)\n",
    "print(\"DataFrame columns:\", df.columns)"
   ]
  },
  {
   "cell_type": "markdown",
   "id": "01a78e42",
   "metadata": {},
   "source": [
    "# Convert Data into Time & Date format"
   ]
  },
  {
   "cell_type": "code",
   "execution_count": 30,
   "id": "d378ccc1",
   "metadata": {},
   "outputs": [],
   "source": [
    "# 3. Convert timestamp and sort by time\n",
    "df['timestamp'] = pd.to_datetime(df['timestamp'], unit='ms')\n",
    "df = df.sort_values(\"timestamp\").reset_index(drop=True)\n",
    "\n",
    "# Create additional time-based features\n",
    "df['hour'] = df['timestamp'].dt.hour\n",
    "df['dayofweek'] = df['timestamp'].dt.dayofweek"
   ]
  },
  {
   "cell_type": "code",
   "execution_count": 31,
   "id": "e598ccf9",
   "metadata": {},
   "outputs": [
    {
     "name": "stdout",
     "output_type": "stream",
     "text": [
      "Preprocessed DataFrame:\n",
      "                timestamp    type            value  hour  dayofweek\n",
      "0 2025-02-19 19:52:34.225      QR  softwere ERROR     19          2\n",
      "1 2025-02-19 19:52:44.755  damage  softwere ERROR     19          2\n",
      "2 2025-02-19 19:53:28.376  damage        Scratches    19          2\n",
      "3 2025-02-19 19:53:53.948  damage           Pitted    19          2\n",
      "4 2025-02-19 19:56:16.925  damage           Pitted    19          2\n"
     ]
    }
   ],
   "source": [
    "print(\"Preprocessed DataFrame:\")\n",
    "print(df.head())"
   ]
  },
  {
   "cell_type": "code",
   "execution_count": 32,
   "id": "8648a884",
   "metadata": {},
   "outputs": [],
   "source": [
    "# Aggregate errors per day\n",
    "df['date'] = df['timestamp'].dt.date\n",
    "daily_errors = df.groupby('date').size().reset_index(name='errors')\n",
    "daily_errors.rename(columns={'date': 'ds', 'errors': 'y'}, inplace=True)\n",
    "daily_errors['ds'] = pd.to_datetime(daily_errors['ds'])"
   ]
  },
  {
   "cell_type": "markdown",
   "id": "6be7fcfb",
   "metadata": {},
   "source": [
    "# Model Training"
   ]
  },
  {
   "cell_type": "code",
   "execution_count": 33,
   "id": "fbb77945",
   "metadata": {},
   "outputs": [],
   "source": [
    "from prophet import Prophet\n",
    "import matplotlib.pyplot as plt"
   ]
  },
  {
   "cell_type": "code",
   "execution_count": 34,
   "id": "6d7eb6eb",
   "metadata": {},
   "outputs": [
    {
     "name": "stderr",
     "output_type": "stream",
     "text": [
      "01:18:25 - cmdstanpy - INFO - Chain [1] start processing\n",
      "01:18:26 - cmdstanpy - INFO - Chain [1] done processing\n"
     ]
    },
    {
     "data": {
      "text/plain": [
       "<prophet.forecaster.Prophet at 0x189a4ba2990>"
      ]
     },
     "execution_count": 34,
     "metadata": {},
     "output_type": "execute_result"
    }
   ],
   "source": [
    "model = Prophet()\n",
    "model.fit(daily_errors)"
   ]
  },
  {
   "cell_type": "code",
   "execution_count": 35,
   "id": "d8b80ab5",
   "metadata": {},
   "outputs": [],
   "source": [
    "future = model.make_future_dataframe(periods=30)\n",
    "forecast = model.predict(future)"
   ]
  },
  {
   "cell_type": "code",
   "execution_count": 36,
   "id": "92d9c3cd",
   "metadata": {},
   "outputs": [],
   "source": [
    "maintenance_threshold = 50 "
   ]
  },
  {
   "cell_type": "code",
   "execution_count": 37,
   "id": "c9affe2c",
   "metadata": {},
   "outputs": [
    {
     "data": {
      "image/png": "[encoded data removed]",
      "text/plain": [
       "<Figure size 1000x600 with 1 Axes>"
      ]
     },
     "metadata": {},
     "output_type": "display_data"
    }
   ],
   "source": [
    "fig = model.plot(forecast)\n",
    "plt.axhline(y=maintenance_threshold, color='r', linestyle='--', label='Maintenance Threshold')\n",
    "plt.legend()\n",
    "plt.title(\"Forecast of Daily Error Counts (Maintenance Indicator)\")\n",
    "plt.xlabel(\"Date\")\n",
    "plt.ylabel(\"Number of Errors\")\n",
    "plt.show()"
   ]
  },
  {
   "cell_type": "markdown",
   "id": "106f8b61",
   "metadata": {},
   "source": [
    "# Maintennance Date Prediction"
   ]
  },
  {
   "cell_type": "code",
   "execution_count": 38,
   "id": "31edde71",
   "metadata": {},
   "outputs": [],
   "source": [
    "future_maintenance_dates = forecast[forecast['yhat'] > maintenance_threshold]['ds']"
   ]
  },
  {
   "cell_type": "code",
   "execution_count": 39,
   "id": "84d1a68f",
   "metadata": {},
   "outputs": [],
   "source": [
    "import firebase_admin\n",
    "from firebase_admin import credentials, db\n",
    "import os"
   ]
  },
  {
   "cell_type": "code",
   "execution_count": 40,
   "id": "03eed234",
   "metadata": {},
   "outputs": [],
   "source": [
    "firebase_json_path = r\"D:\\Data centr\\DataBase\\dr-uav-firebase-adminsdk-fbsvc-a37b23e08a.json\"\n",
    "firebase_app_url= \"https://dr-uav-default-rtdb.europe-west1.firebasedatabase.app/\""
   ]
  },
  {
   "cell_type": "code",
   "execution_count": 41,
   "id": "1fb422c2",
   "metadata": {},
   "outputs": [
    {
     "name": "stdout",
     "output_type": "stream",
     "text": [
      "✅ Firebase credentials file exists.\n"
     ]
    }
   ],
   "source": [
    "if not os.path.exists(firebase_json_path):\n",
    "    print(\"❌ Firebase credentials file not found!\")\n",
    "else:\n",
    "    print(\"✅ Firebase credentials file exists.\")"
   ]
  },
  {
   "cell_type": "code",
   "execution_count": 42,
   "id": "05fb588e",
   "metadata": {},
   "outputs": [],
   "source": [
    "# Initialize Firebase (only if not already initialized)\n",
    "if not firebase_admin._apps:\n",
    "    cred = credentials.Certificate(firebase_json_path)\n",
    "    firebase_admin.initialize_app(cred, {'databaseURL': firebase_app_url})\n"
   ]
  },
  {
   "cell_type": "code",
   "execution_count": 43,
   "id": "a60b21f5",
   "metadata": {},
   "outputs": [
    {
     "name": "stdout",
     "output_type": "stream",
     "text": [
      "✅ Next maintenance date stored in Firebase: 2025-02-24 00:00:00\n"
     ]
    }
   ],
   "source": [
    "if not future_maintenance_dates.empty:\n",
    "    next_maintenance_date = str(future_maintenance_dates.iloc[0])\n",
    "    \n",
    "    # 🔹 Store Maintenance Schedule in Firebase\n",
    "    ref = db.reference(\"maintenance_schedule\")\n",
    "    ref.set({\"next_maintenance_date\": next_maintenance_date})\n",
    "\n",
    "    print(f\"✅ Next maintenance date stored in Firebase: {next_maintenance_date}\")"
   ]
  },
  {
   "cell_type": "markdown",
   "id": "bbb448a8",
   "metadata": {},
   "source": [
    "# Function to send push notification"
   ]
  },
  {
   "cell_type": "code",
   "execution_count": 44,
   "id": "27c94bfa",
   "metadata": {},
   "outputs": [],
   "source": [
    "from firebase_admin import messaging"
   ]
  },
  {
   "cell_type": "code",
   "execution_count": 45,
   "id": "6e03ef8e",
   "metadata": {},
   "outputs": [],
   "source": [
    "firebase_url = firebase_app_url.rstrip('/')"
   ]
  },
  {
   "cell_type": "code",
   "execution_count": 46,
   "id": "3973fb86",
   "metadata": {},
   "outputs": [
    {
     "name": "stdout",
     "output_type": "stream",
     "text": [
      "✅ Notification sent: projects/dr-uav/messages/6716438302624652244\n"
     ]
    }
   ],
   "source": [
    "from firebase_admin import messaging\n",
    "\n",
    "# Function to send push notification\n",
    "def send_notification():\n",
    "    message = messaging.Message(\n",
    "        notification=messaging.Notification(\n",
    "            title=\"🚁 UAV Maintenance Reminder\",\n",
    "            body=f\"Upcoming maintenance scheduled on {next_maintenance_date}\"\n",
    "        ),\n",
    "        topic=\"UAV_Maintenance\"\n",
    "    )\n",
    "    response = messaging.send(message)\n",
    "    print(f\"✅ Notification sent: {response}\")\n",
    "\n",
    "send_notification()"
   ]
  }
 ],
 "metadata": {
  "kernelspec": {
   "display_name": "Python 3",
   "language": "python",
   "name": "python3"
  },
  "language_info": {
   "codemirror_mode": {
    "name": "ipython",
    "version": 3
   },
   "file_extension": ".py",
   "mimetype": "text/x-python",
   "name": "python",
   "nbconvert_exporter": "python",
   "pygments_lexer": "ipython3",
   "version": "3.11.9"
  }
 },
 "nbformat": 4,
 "nbformat_minor": 5
}
